{
  "nbformat": 4,
  "nbformat_minor": 0,
  "metadata": {
    "colab": {
      "provenance": [],
      "collapsed_sections": [
        "5x7u7SlJHrEs"
      ],
      "authorship_tag": "ABX9TyPUipGUV5HF8zzUUNuG5AHh"
    },
    "kernelspec": {
      "name": "python3",
      "display_name": "Python 3"
    },
    "language_info": {
      "name": "python"
    }
  },
  "cells": [
    {
      "cell_type": "markdown",
      "source": [
        "## **1. Importing dataset and pandas**\n",
        "\n"
      ],
      "metadata": {
        "id": "9DUUyY3fNOO2"
      }
    },
    {
      "cell_type": "code",
      "execution_count": 1,
      "metadata": {
        "colab": {
          "base_uri": "https://localhost:8080/",
          "height": 343
        },
        "id": "eRDQUnrpDIwb",
        "outputId": "e67c6d8a-4d06-4c0f-c6e6-48e0a521af7f"
      },
      "outputs": [
        {
          "output_type": "stream",
          "name": "stdout",
          "text": [
            "fatal: destination path 'GeeksforGeeks-Articles-Data-Analysis' already exists and is not an empty directory.\n"
          ]
        },
        {
          "output_type": "execute_result",
          "data": {
            "text/plain": [
              "                                          title         author_id  \\\n",
              "0        5 Best Practices For Writing SQL Joins       priyankab14   \n",
              "1                  Foundation CSS Dropdown Menu  ishankhandelwals   \n",
              "2  Top 20 Excel Shortcuts That You Need To Know       priyankab14   \n",
              "3                     Servlet – Fetching Result   nishatiwari1719   \n",
              "4                              Suffix Sum Array          rohit768   \n",
              "\n",
              "   last_updated                                               link category  \n",
              "0  21 Feb, 2022  https://www.geeksforgeeks.org/5-best-practices...     easy  \n",
              "1  20 Feb, 2022  https://www.geeksforgeeks.org/foundation-css-d...     easy  \n",
              "2  17 Feb, 2022  https://www.geeksforgeeks.org/top-20-excel-sho...     easy  \n",
              "3  17 Feb, 2022  https://www.geeksforgeeks.org/servlet-fetching...     easy  \n",
              "4  21 Feb, 2022    https://www.geeksforgeeks.org/suffix-sum-array/     easy  "
            ],
            "text/html": [
              "\n",
              "  <div id=\"df-24c762dd-90d8-4270-9209-2feac3f8e518\" class=\"colab-df-container\">\n",
              "    <div>\n",
              "<style scoped>\n",
              "    .dataframe tbody tr th:only-of-type {\n",
              "        vertical-align: middle;\n",
              "    }\n",
              "\n",
              "    .dataframe tbody tr th {\n",
              "        vertical-align: top;\n",
              "    }\n",
              "\n",
              "    .dataframe thead th {\n",
              "        text-align: right;\n",
              "    }\n",
              "</style>\n",
              "<table border=\"1\" class=\"dataframe\">\n",
              "  <thead>\n",
              "    <tr style=\"text-align: right;\">\n",
              "      <th></th>\n",
              "      <th>title</th>\n",
              "      <th>author_id</th>\n",
              "      <th>last_updated</th>\n",
              "      <th>link</th>\n",
              "      <th>category</th>\n",
              "    </tr>\n",
              "  </thead>\n",
              "  <tbody>\n",
              "    <tr>\n",
              "      <th>0</th>\n",
              "      <td>5 Best Practices For Writing SQL Joins</td>\n",
              "      <td>priyankab14</td>\n",
              "      <td>21 Feb, 2022</td>\n",
              "      <td>https://www.geeksforgeeks.org/5-best-practices...</td>\n",
              "      <td>easy</td>\n",
              "    </tr>\n",
              "    <tr>\n",
              "      <th>1</th>\n",
              "      <td>Foundation CSS Dropdown Menu</td>\n",
              "      <td>ishankhandelwals</td>\n",
              "      <td>20 Feb, 2022</td>\n",
              "      <td>https://www.geeksforgeeks.org/foundation-css-d...</td>\n",
              "      <td>easy</td>\n",
              "    </tr>\n",
              "    <tr>\n",
              "      <th>2</th>\n",
              "      <td>Top 20 Excel Shortcuts That You Need To Know</td>\n",
              "      <td>priyankab14</td>\n",
              "      <td>17 Feb, 2022</td>\n",
              "      <td>https://www.geeksforgeeks.org/top-20-excel-sho...</td>\n",
              "      <td>easy</td>\n",
              "    </tr>\n",
              "    <tr>\n",
              "      <th>3</th>\n",
              "      <td>Servlet – Fetching Result</td>\n",
              "      <td>nishatiwari1719</td>\n",
              "      <td>17 Feb, 2022</td>\n",
              "      <td>https://www.geeksforgeeks.org/servlet-fetching...</td>\n",
              "      <td>easy</td>\n",
              "    </tr>\n",
              "    <tr>\n",
              "      <th>4</th>\n",
              "      <td>Suffix Sum Array</td>\n",
              "      <td>rohit768</td>\n",
              "      <td>21 Feb, 2022</td>\n",
              "      <td>https://www.geeksforgeeks.org/suffix-sum-array/</td>\n",
              "      <td>easy</td>\n",
              "    </tr>\n",
              "  </tbody>\n",
              "</table>\n",
              "</div>\n",
              "    <div class=\"colab-df-buttons\">\n",
              "\n",
              "  <div class=\"colab-df-container\">\n",
              "    <button class=\"colab-df-convert\" onclick=\"convertToInteractive('df-24c762dd-90d8-4270-9209-2feac3f8e518')\"\n",
              "            title=\"Convert this dataframe to an interactive table.\"\n",
              "            style=\"display:none;\">\n",
              "\n",
              "  <svg xmlns=\"http://www.w3.org/2000/svg\" height=\"24px\" viewBox=\"0 -960 960 960\">\n",
              "    <path d=\"M120-120v-720h720v720H120Zm60-500h600v-160H180v160Zm220 220h160v-160H400v160Zm0 220h160v-160H400v160ZM180-400h160v-160H180v160Zm440 0h160v-160H620v160ZM180-180h160v-160H180v160Zm440 0h160v-160H620v160Z\"/>\n",
              "  </svg>\n",
              "    </button>\n",
              "\n",
              "  <style>\n",
              "    .colab-df-container {\n",
              "      display:flex;\n",
              "      gap: 12px;\n",
              "    }\n",
              "\n",
              "    .colab-df-convert {\n",
              "      background-color: #E8F0FE;\n",
              "      border: none;\n",
              "      border-radius: 50%;\n",
              "      cursor: pointer;\n",
              "      display: none;\n",
              "      fill: #1967D2;\n",
              "      height: 32px;\n",
              "      padding: 0 0 0 0;\n",
              "      width: 32px;\n",
              "    }\n",
              "\n",
              "    .colab-df-convert:hover {\n",
              "      background-color: #E2EBFA;\n",
              "      box-shadow: 0px 1px 2px rgba(60, 64, 67, 0.3), 0px 1px 3px 1px rgba(60, 64, 67, 0.15);\n",
              "      fill: #174EA6;\n",
              "    }\n",
              "\n",
              "    .colab-df-buttons div {\n",
              "      margin-bottom: 4px;\n",
              "    }\n",
              "\n",
              "    [theme=dark] .colab-df-convert {\n",
              "      background-color: #3B4455;\n",
              "      fill: #D2E3FC;\n",
              "    }\n",
              "\n",
              "    [theme=dark] .colab-df-convert:hover {\n",
              "      background-color: #434B5C;\n",
              "      box-shadow: 0px 1px 3px 1px rgba(0, 0, 0, 0.15);\n",
              "      filter: drop-shadow(0px 1px 2px rgba(0, 0, 0, 0.3));\n",
              "      fill: #FFFFFF;\n",
              "    }\n",
              "  </style>\n",
              "\n",
              "    <script>\n",
              "      const buttonEl =\n",
              "        document.querySelector('#df-24c762dd-90d8-4270-9209-2feac3f8e518 button.colab-df-convert');\n",
              "      buttonEl.style.display =\n",
              "        google.colab.kernel.accessAllowed ? 'block' : 'none';\n",
              "\n",
              "      async function convertToInteractive(key) {\n",
              "        const element = document.querySelector('#df-24c762dd-90d8-4270-9209-2feac3f8e518');\n",
              "        const dataTable =\n",
              "          await google.colab.kernel.invokeFunction('convertToInteractive',\n",
              "                                                    [key], {});\n",
              "        if (!dataTable) return;\n",
              "\n",
              "        const docLinkHtml = 'Like what you see? Visit the ' +\n",
              "          '<a target=\"_blank\" href=https://colab.research.google.com/notebooks/data_table.ipynb>data table notebook</a>'\n",
              "          + ' to learn more about interactive tables.';\n",
              "        element.innerHTML = '';\n",
              "        dataTable['output_type'] = 'display_data';\n",
              "        await google.colab.output.renderOutput(dataTable, element);\n",
              "        const docLink = document.createElement('div');\n",
              "        docLink.innerHTML = docLinkHtml;\n",
              "        element.appendChild(docLink);\n",
              "      }\n",
              "    </script>\n",
              "  </div>\n",
              "\n",
              "\n",
              "<div id=\"df-d9b531fe-5d9f-449f-9529-806cdab15042\">\n",
              "  <button class=\"colab-df-quickchart\" onclick=\"quickchart('df-d9b531fe-5d9f-449f-9529-806cdab15042')\"\n",
              "            title=\"Suggest charts\"\n",
              "            style=\"display:none;\">\n",
              "\n",
              "<svg xmlns=\"http://www.w3.org/2000/svg\" height=\"24px\"viewBox=\"0 0 24 24\"\n",
              "     width=\"24px\">\n",
              "    <g>\n",
              "        <path d=\"M19 3H5c-1.1 0-2 .9-2 2v14c0 1.1.9 2 2 2h14c1.1 0 2-.9 2-2V5c0-1.1-.9-2-2-2zM9 17H7v-7h2v7zm4 0h-2V7h2v10zm4 0h-2v-4h2v4z\"/>\n",
              "    </g>\n",
              "</svg>\n",
              "  </button>\n",
              "\n",
              "<style>\n",
              "  .colab-df-quickchart {\n",
              "      --bg-color: #E8F0FE;\n",
              "      --fill-color: #1967D2;\n",
              "      --hover-bg-color: #E2EBFA;\n",
              "      --hover-fill-color: #174EA6;\n",
              "      --disabled-fill-color: #AAA;\n",
              "      --disabled-bg-color: #DDD;\n",
              "  }\n",
              "\n",
              "  [theme=dark] .colab-df-quickchart {\n",
              "      --bg-color: #3B4455;\n",
              "      --fill-color: #D2E3FC;\n",
              "      --hover-bg-color: #434B5C;\n",
              "      --hover-fill-color: #FFFFFF;\n",
              "      --disabled-bg-color: #3B4455;\n",
              "      --disabled-fill-color: #666;\n",
              "  }\n",
              "\n",
              "  .colab-df-quickchart {\n",
              "    background-color: var(--bg-color);\n",
              "    border: none;\n",
              "    border-radius: 50%;\n",
              "    cursor: pointer;\n",
              "    display: none;\n",
              "    fill: var(--fill-color);\n",
              "    height: 32px;\n",
              "    padding: 0;\n",
              "    width: 32px;\n",
              "  }\n",
              "\n",
              "  .colab-df-quickchart:hover {\n",
              "    background-color: var(--hover-bg-color);\n",
              "    box-shadow: 0 1px 2px rgba(60, 64, 67, 0.3), 0 1px 3px 1px rgba(60, 64, 67, 0.15);\n",
              "    fill: var(--button-hover-fill-color);\n",
              "  }\n",
              "\n",
              "  .colab-df-quickchart-complete:disabled,\n",
              "  .colab-df-quickchart-complete:disabled:hover {\n",
              "    background-color: var(--disabled-bg-color);\n",
              "    fill: var(--disabled-fill-color);\n",
              "    box-shadow: none;\n",
              "  }\n",
              "\n",
              "  .colab-df-spinner {\n",
              "    border: 2px solid var(--fill-color);\n",
              "    border-color: transparent;\n",
              "    border-bottom-color: var(--fill-color);\n",
              "    animation:\n",
              "      spin 1s steps(1) infinite;\n",
              "  }\n",
              "\n",
              "  @keyframes spin {\n",
              "    0% {\n",
              "      border-color: transparent;\n",
              "      border-bottom-color: var(--fill-color);\n",
              "      border-left-color: var(--fill-color);\n",
              "    }\n",
              "    20% {\n",
              "      border-color: transparent;\n",
              "      border-left-color: var(--fill-color);\n",
              "      border-top-color: var(--fill-color);\n",
              "    }\n",
              "    30% {\n",
              "      border-color: transparent;\n",
              "      border-left-color: var(--fill-color);\n",
              "      border-top-color: var(--fill-color);\n",
              "      border-right-color: var(--fill-color);\n",
              "    }\n",
              "    40% {\n",
              "      border-color: transparent;\n",
              "      border-right-color: var(--fill-color);\n",
              "      border-top-color: var(--fill-color);\n",
              "    }\n",
              "    60% {\n",
              "      border-color: transparent;\n",
              "      border-right-color: var(--fill-color);\n",
              "    }\n",
              "    80% {\n",
              "      border-color: transparent;\n",
              "      border-right-color: var(--fill-color);\n",
              "      border-bottom-color: var(--fill-color);\n",
              "    }\n",
              "    90% {\n",
              "      border-color: transparent;\n",
              "      border-bottom-color: var(--fill-color);\n",
              "    }\n",
              "  }\n",
              "</style>\n",
              "\n",
              "  <script>\n",
              "    async function quickchart(key) {\n",
              "      const quickchartButtonEl =\n",
              "        document.querySelector('#' + key + ' button');\n",
              "      quickchartButtonEl.disabled = true;  // To prevent multiple clicks.\n",
              "      quickchartButtonEl.classList.add('colab-df-spinner');\n",
              "      try {\n",
              "        const charts = await google.colab.kernel.invokeFunction(\n",
              "            'suggestCharts', [key], {});\n",
              "      } catch (error) {\n",
              "        console.error('Error during call to suggestCharts:', error);\n",
              "      }\n",
              "      quickchartButtonEl.classList.remove('colab-df-spinner');\n",
              "      quickchartButtonEl.classList.add('colab-df-quickchart-complete');\n",
              "    }\n",
              "    (() => {\n",
              "      let quickchartButtonEl =\n",
              "        document.querySelector('#df-d9b531fe-5d9f-449f-9529-806cdab15042 button');\n",
              "      quickchartButtonEl.style.display =\n",
              "        google.colab.kernel.accessAllowed ? 'block' : 'none';\n",
              "    })();\n",
              "  </script>\n",
              "</div>\n",
              "\n",
              "    </div>\n",
              "  </div>\n"
            ]
          },
          "metadata": {},
          "execution_count": 1
        }
      ],
      "source": [
        "!git clone https://github.com/AshishJangra27/GeeksforGeeks-Articles-Data-Analysis\n",
        "import pandas as pd\n",
        "df = pd.read_csv('/content/GeeksforGeeks-Articles-Data-Analysis/articles.csv')\n",
        "df.head()\n"
      ]
    },
    {
      "cell_type": "markdown",
      "source": [
        "## **2. Exploring Dataset**"
      ],
      "metadata": {
        "id": "CAWb1dPPNiqr"
      }
    },
    {
      "cell_type": "markdown",
      "source": [
        "**2.1 : Checking if there are any null values**"
      ],
      "metadata": {
        "id": "f6g3tqq6NxiR"
      }
    },
    {
      "cell_type": "code",
      "source": [
        "df.isnull().sum()"
      ],
      "metadata": {
        "colab": {
          "base_uri": "https://localhost:8080/"
        },
        "id": "0UzBUDhMDkKA",
        "outputId": "d694c5c3-6fd9-415a-c7ab-46948a27162c"
      },
      "execution_count": 21,
      "outputs": [
        {
          "output_type": "execute_result",
          "data": {
            "text/plain": [
              "title           0\n",
              "author_id       0\n",
              "last_updated    0\n",
              "link            0\n",
              "category        0\n",
              "date            0\n",
              "month           0\n",
              "year            0\n",
              "day             0\n",
              "dtype: int64"
            ]
          },
          "metadata": {},
          "execution_count": 21
        }
      ]
    },
    {
      "cell_type": "markdown",
      "source": [
        "**2.2 : Dropping any null or duplicate values**"
      ],
      "metadata": {
        "id": "GekF99F8N1hm"
      }
    },
    {
      "cell_type": "code",
      "source": [
        "df.dropna(inplace=True)\n",
        "df.drop_duplicates(inplace=True)\n",
        "df.isnull().sum()"
      ],
      "metadata": {
        "colab": {
          "base_uri": "https://localhost:8080/"
        },
        "id": "xcaw0ij8Dnst",
        "outputId": "5463949d-e514-461c-9e27-eb2469a6e63d"
      },
      "execution_count": 22,
      "outputs": [
        {
          "output_type": "execute_result",
          "data": {
            "text/plain": [
              "title           0\n",
              "author_id       0\n",
              "last_updated    0\n",
              "link            0\n",
              "category        0\n",
              "date            0\n",
              "month           0\n",
              "year            0\n",
              "day             0\n",
              "dtype: int64"
            ]
          },
          "metadata": {},
          "execution_count": 22
        }
      ]
    },
    {
      "cell_type": "markdown",
      "source": [
        "**2.3 : Exploring 'category' column**"
      ],
      "metadata": {
        "id": "5AUspDGBDzug"
      }
    },
    {
      "cell_type": "code",
      "source": [
        "#Method 1\n",
        "\n",
        "set(df['category'])"
      ],
      "metadata": {
        "colab": {
          "base_uri": "https://localhost:8080/"
        },
        "id": "xJn4yT0VDw1H",
        "outputId": "dacb6b13-a672-4b85-9ebe-f3141aa6e02c"
      },
      "execution_count": 23,
      "outputs": [
        {
          "output_type": "execute_result",
          "data": {
            "text/plain": [
              "{'basic', 'easy', 'expert', 'hard', 'medium'}"
            ]
          },
          "metadata": {},
          "execution_count": 23
        }
      ]
    },
    {
      "cell_type": "code",
      "source": [
        "#Method 2\n",
        "\n",
        "df['category'].unique()"
      ],
      "metadata": {
        "colab": {
          "base_uri": "https://localhost:8080/"
        },
        "id": "Xze3nL2zDqb0",
        "outputId": "7e9af825-f4d3-4458-9173-743144289a46"
      },
      "execution_count": 24,
      "outputs": [
        {
          "output_type": "execute_result",
          "data": {
            "text/plain": [
              "array(['easy', 'basic', 'medium', 'hard', 'expert'], dtype=object)"
            ]
          },
          "metadata": {},
          "execution_count": 24
        }
      ]
    },
    {
      "cell_type": "markdown",
      "source": [
        "**2.4 : Exploring 'link' column**"
      ],
      "metadata": {
        "id": "r1GGgrwmFaxc"
      }
    },
    {
      "cell_type": "code",
      "source": [
        "df['link'].nunique()"
      ],
      "metadata": {
        "colab": {
          "base_uri": "https://localhost:8080/"
        },
        "id": "81adGvkvFdvo",
        "outputId": "a0dbac16-e52f-4d21-e3a3-35148cd74f9b"
      },
      "execution_count": 27,
      "outputs": [
        {
          "output_type": "execute_result",
          "data": {
            "text/plain": [
              "34437"
            ]
          },
          "metadata": {},
          "execution_count": 27
        }
      ]
    },
    {
      "cell_type": "markdown",
      "source": [
        "**2.5 : Exploring 'last_updated' column**\n",
        "\n",
        "> We want to print only the first 5 rows to check the format"
      ],
      "metadata": {
        "id": "RlXkErvTGp-2"
      }
    },
    {
      "cell_type": "code",
      "source": [
        "#Method-1\n",
        "\n",
        "lst = []\n",
        "for i in df['last_updated']:\n",
        "  lst.append(i)\n",
        "\n",
        "lst[:5]"
      ],
      "metadata": {
        "colab": {
          "base_uri": "https://localhost:8080/"
        },
        "id": "0LnBwRPSGrvk",
        "outputId": "2c6936ec-e4c2-455b-8cef-acd84f1a6ac9"
      },
      "execution_count": 28,
      "outputs": [
        {
          "output_type": "execute_result",
          "data": {
            "text/plain": [
              "['21 Feb, 2022',\n",
              " '20 Feb, 2022',\n",
              " '17 Feb, 2022',\n",
              " '17 Feb, 2022',\n",
              " '21 Feb, 2022']"
            ]
          },
          "metadata": {},
          "execution_count": 28
        }
      ]
    },
    {
      "cell_type": "code",
      "source": [
        "#Method-2\n",
        "\n",
        "df['last_updated'].head()"
      ],
      "metadata": {
        "colab": {
          "base_uri": "https://localhost:8080/"
        },
        "id": "_K1rzA1xPKV1",
        "outputId": "d15c5213-b45c-4f89-f0dd-eb279ad1e6e6"
      },
      "execution_count": 29,
      "outputs": [
        {
          "output_type": "execute_result",
          "data": {
            "text/plain": [
              "0    21 Feb, 2022\n",
              "1    20 Feb, 2022\n",
              "2    17 Feb, 2022\n",
              "3    17 Feb, 2022\n",
              "4    21 Feb, 2022\n",
              "Name: last_updated, dtype: object"
            ]
          },
          "metadata": {},
          "execution_count": 29
        }
      ]
    },
    {
      "cell_type": "code",
      "source": [
        "df['last_updated'].value_counts()"
      ],
      "metadata": {
        "colab": {
          "base_uri": "https://localhost:8080/"
        },
        "id": "LJ29qus8HFAR",
        "outputId": "77d7ae39-9038-4b72-8c14-9eba25be3e4b"
      },
      "execution_count": 30,
      "outputs": [
        {
          "output_type": "execute_result",
          "data": {
            "text/plain": [
              "28 Jun, 2021    1283\n",
              "24 Nov, 2021     155\n",
              "21 May, 2021     151\n",
              "30 Jun, 2021     151\n",
              "11 Aug, 2021     140\n",
              "                ... \n",
              "06 Jan, 2017       1\n",
              "07 Jun, 2016       1\n",
              "10 Jul, 2016       1\n",
              "04 May, 2017       1\n",
              "12 May, 2015       1\n",
              "Name: last_updated, Length: 1958, dtype: int64"
            ]
          },
          "metadata": {},
          "execution_count": 30
        }
      ]
    },
    {
      "cell_type": "markdown",
      "source": [
        "**2.6 : Exploring 'author_id' column**"
      ],
      "metadata": {
        "id": "pYHevsLWHVtt"
      }
    },
    {
      "cell_type": "code",
      "source": [
        "df['author_id'].value_counts()"
      ],
      "metadata": {
        "colab": {
          "base_uri": "https://localhost:8080/"
        },
        "id": "4uExdSCXHXrO",
        "outputId": "f5a0ef3f-de41-4a4d-b20a-2e5dde2029b1"
      },
      "execution_count": 31,
      "outputs": [
        {
          "output_type": "execute_result",
          "data": {
            "text/plain": [
              "GeeksforGeeks        11924\n",
              "ManasChhabra2          316\n",
              "Striver                261\n",
              "manjeet_04             246\n",
              "Chinmoy Lenka          191\n",
              "                     ...  \n",
              "cybercreed010            1\n",
              "KritikaSharma21          1\n",
              "RatulSarkar1             1\n",
              "webwithsantanu           1\n",
              "sandeep tadepalli        1\n",
              "Name: author_id, Length: 5583, dtype: int64"
            ]
          },
          "metadata": {},
          "execution_count": 31
        }
      ]
    },
    {
      "cell_type": "markdown",
      "source": [
        "## **3. Data Cleaning**"
      ],
      "metadata": {
        "id": "5x7u7SlJHrEs"
      }
    },
    {
      "cell_type": "markdown",
      "source": [
        "**3.1 : Cleaning Dates**"
      ],
      "metadata": {
        "id": "W6n7z1gSP4Ek"
      }
    },
    {
      "cell_type": "code",
      "source": [
        "df.head()"
      ],
      "metadata": {
        "colab": {
          "base_uri": "https://localhost:8080/",
          "height": 462
        },
        "id": "_GjKxnRqHrtD",
        "outputId": "eb7a2af0-6793-4978-999c-bd7dd6ad7cf7"
      },
      "execution_count": 13,
      "outputs": [
        {
          "output_type": "execute_result",
          "data": {
            "text/plain": [
              "                                          title         author_id  \\\n",
              "0        5 Best Practices For Writing SQL Joins       priyankab14   \n",
              "1                  Foundation CSS Dropdown Menu  ishankhandelwals   \n",
              "2  Top 20 Excel Shortcuts That You Need To Know       priyankab14   \n",
              "3                     Servlet – Fetching Result   nishatiwari1719   \n",
              "4                              Suffix Sum Array          rohit768   \n",
              "\n",
              "   last_updated                                               link category  \n",
              "0  21 Feb, 2022  https://www.geeksforgeeks.org/5-best-practices...     easy  \n",
              "1  20 Feb, 2022  https://www.geeksforgeeks.org/foundation-css-d...     easy  \n",
              "2  17 Feb, 2022  https://www.geeksforgeeks.org/top-20-excel-sho...     easy  \n",
              "3  17 Feb, 2022  https://www.geeksforgeeks.org/servlet-fetching...     easy  \n",
              "4  21 Feb, 2022    https://www.geeksforgeeks.org/suffix-sum-array/     easy  "
            ],
            "text/html": [
              "\n",
              "  <div id=\"df-e824571a-6dad-498e-ae77-29401ef8aba0\" class=\"colab-df-container\">\n",
              "    <div>\n",
              "<style scoped>\n",
              "    .dataframe tbody tr th:only-of-type {\n",
              "        vertical-align: middle;\n",
              "    }\n",
              "\n",
              "    .dataframe tbody tr th {\n",
              "        vertical-align: top;\n",
              "    }\n",
              "\n",
              "    .dataframe thead th {\n",
              "        text-align: right;\n",
              "    }\n",
              "</style>\n",
              "<table border=\"1\" class=\"dataframe\">\n",
              "  <thead>\n",
              "    <tr style=\"text-align: right;\">\n",
              "      <th></th>\n",
              "      <th>title</th>\n",
              "      <th>author_id</th>\n",
              "      <th>last_updated</th>\n",
              "      <th>link</th>\n",
              "      <th>category</th>\n",
              "    </tr>\n",
              "  </thead>\n",
              "  <tbody>\n",
              "    <tr>\n",
              "      <th>0</th>\n",
              "      <td>5 Best Practices For Writing SQL Joins</td>\n",
              "      <td>priyankab14</td>\n",
              "      <td>21 Feb, 2022</td>\n",
              "      <td>https://www.geeksforgeeks.org/5-best-practices...</td>\n",
              "      <td>easy</td>\n",
              "    </tr>\n",
              "    <tr>\n",
              "      <th>1</th>\n",
              "      <td>Foundation CSS Dropdown Menu</td>\n",
              "      <td>ishankhandelwals</td>\n",
              "      <td>20 Feb, 2022</td>\n",
              "      <td>https://www.geeksforgeeks.org/foundation-css-d...</td>\n",
              "      <td>easy</td>\n",
              "    </tr>\n",
              "    <tr>\n",
              "      <th>2</th>\n",
              "      <td>Top 20 Excel Shortcuts That You Need To Know</td>\n",
              "      <td>priyankab14</td>\n",
              "      <td>17 Feb, 2022</td>\n",
              "      <td>https://www.geeksforgeeks.org/top-20-excel-sho...</td>\n",
              "      <td>easy</td>\n",
              "    </tr>\n",
              "    <tr>\n",
              "      <th>3</th>\n",
              "      <td>Servlet – Fetching Result</td>\n",
              "      <td>nishatiwari1719</td>\n",
              "      <td>17 Feb, 2022</td>\n",
              "      <td>https://www.geeksforgeeks.org/servlet-fetching...</td>\n",
              "      <td>easy</td>\n",
              "    </tr>\n",
              "    <tr>\n",
              "      <th>4</th>\n",
              "      <td>Suffix Sum Array</td>\n",
              "      <td>rohit768</td>\n",
              "      <td>21 Feb, 2022</td>\n",
              "      <td>https://www.geeksforgeeks.org/suffix-sum-array/</td>\n",
              "      <td>easy</td>\n",
              "    </tr>\n",
              "  </tbody>\n",
              "</table>\n",
              "</div>\n",
              "    <div class=\"colab-df-buttons\">\n",
              "\n",
              "  <div class=\"colab-df-container\">\n",
              "    <button class=\"colab-df-convert\" onclick=\"convertToInteractive('df-e824571a-6dad-498e-ae77-29401ef8aba0')\"\n",
              "            title=\"Convert this dataframe to an interactive table.\"\n",
              "            style=\"display:none;\">\n",
              "\n",
              "  <svg xmlns=\"http://www.w3.org/2000/svg\" height=\"24px\" viewBox=\"0 -960 960 960\">\n",
              "    <path d=\"M120-120v-720h720v720H120Zm60-500h600v-160H180v160Zm220 220h160v-160H400v160Zm0 220h160v-160H400v160ZM180-400h160v-160H180v160Zm440 0h160v-160H620v160ZM180-180h160v-160H180v160Zm440 0h160v-160H620v160Z\"/>\n",
              "  </svg>\n",
              "    </button>\n",
              "\n",
              "  <style>\n",
              "    .colab-df-container {\n",
              "      display:flex;\n",
              "      gap: 12px;\n",
              "    }\n",
              "\n",
              "    .colab-df-convert {\n",
              "      background-color: #E8F0FE;\n",
              "      border: none;\n",
              "      border-radius: 50%;\n",
              "      cursor: pointer;\n",
              "      display: none;\n",
              "      fill: #1967D2;\n",
              "      height: 32px;\n",
              "      padding: 0 0 0 0;\n",
              "      width: 32px;\n",
              "    }\n",
              "\n",
              "    .colab-df-convert:hover {\n",
              "      background-color: #E2EBFA;\n",
              "      box-shadow: 0px 1px 2px rgba(60, 64, 67, 0.3), 0px 1px 3px 1px rgba(60, 64, 67, 0.15);\n",
              "      fill: #174EA6;\n",
              "    }\n",
              "\n",
              "    .colab-df-buttons div {\n",
              "      margin-bottom: 4px;\n",
              "    }\n",
              "\n",
              "    [theme=dark] .colab-df-convert {\n",
              "      background-color: #3B4455;\n",
              "      fill: #D2E3FC;\n",
              "    }\n",
              "\n",
              "    [theme=dark] .colab-df-convert:hover {\n",
              "      background-color: #434B5C;\n",
              "      box-shadow: 0px 1px 3px 1px rgba(0, 0, 0, 0.15);\n",
              "      filter: drop-shadow(0px 1px 2px rgba(0, 0, 0, 0.3));\n",
              "      fill: #FFFFFF;\n",
              "    }\n",
              "  </style>\n",
              "\n",
              "    <script>\n",
              "      const buttonEl =\n",
              "        document.querySelector('#df-e824571a-6dad-498e-ae77-29401ef8aba0 button.colab-df-convert');\n",
              "      buttonEl.style.display =\n",
              "        google.colab.kernel.accessAllowed ? 'block' : 'none';\n",
              "\n",
              "      async function convertToInteractive(key) {\n",
              "        const element = document.querySelector('#df-e824571a-6dad-498e-ae77-29401ef8aba0');\n",
              "        const dataTable =\n",
              "          await google.colab.kernel.invokeFunction('convertToInteractive',\n",
              "                                                    [key], {});\n",
              "        if (!dataTable) return;\n",
              "\n",
              "        const docLinkHtml = 'Like what you see? Visit the ' +\n",
              "          '<a target=\"_blank\" href=https://colab.research.google.com/notebooks/data_table.ipynb>data table notebook</a>'\n",
              "          + ' to learn more about interactive tables.';\n",
              "        element.innerHTML = '';\n",
              "        dataTable['output_type'] = 'display_data';\n",
              "        await google.colab.output.renderOutput(dataTable, element);\n",
              "        const docLink = document.createElement('div');\n",
              "        docLink.innerHTML = docLinkHtml;\n",
              "        element.appendChild(docLink);\n",
              "      }\n",
              "    </script>\n",
              "  </div>\n",
              "\n",
              "\n",
              "<div id=\"df-1c762f89-40a6-440d-a62d-1d9c158696f1\">\n",
              "  <button class=\"colab-df-quickchart\" onclick=\"quickchart('df-1c762f89-40a6-440d-a62d-1d9c158696f1')\"\n",
              "            title=\"Suggest charts\"\n",
              "            style=\"display:none;\">\n",
              "\n",
              "<svg xmlns=\"http://www.w3.org/2000/svg\" height=\"24px\"viewBox=\"0 0 24 24\"\n",
              "     width=\"24px\">\n",
              "    <g>\n",
              "        <path d=\"M19 3H5c-1.1 0-2 .9-2 2v14c0 1.1.9 2 2 2h14c1.1 0 2-.9 2-2V5c0-1.1-.9-2-2-2zM9 17H7v-7h2v7zm4 0h-2V7h2v10zm4 0h-2v-4h2v4z\"/>\n",
              "    </g>\n",
              "</svg>\n",
              "  </button>\n",
              "\n",
              "<style>\n",
              "  .colab-df-quickchart {\n",
              "      --bg-color: #E8F0FE;\n",
              "      --fill-color: #1967D2;\n",
              "      --hover-bg-color: #E2EBFA;\n",
              "      --hover-fill-color: #174EA6;\n",
              "      --disabled-fill-color: #AAA;\n",
              "      --disabled-bg-color: #DDD;\n",
              "  }\n",
              "\n",
              "  [theme=dark] .colab-df-quickchart {\n",
              "      --bg-color: #3B4455;\n",
              "      --fill-color: #D2E3FC;\n",
              "      --hover-bg-color: #434B5C;\n",
              "      --hover-fill-color: #FFFFFF;\n",
              "      --disabled-bg-color: #3B4455;\n",
              "      --disabled-fill-color: #666;\n",
              "  }\n",
              "\n",
              "  .colab-df-quickchart {\n",
              "    background-color: var(--bg-color);\n",
              "    border: none;\n",
              "    border-radius: 50%;\n",
              "    cursor: pointer;\n",
              "    display: none;\n",
              "    fill: var(--fill-color);\n",
              "    height: 32px;\n",
              "    padding: 0;\n",
              "    width: 32px;\n",
              "  }\n",
              "\n",
              "  .colab-df-quickchart:hover {\n",
              "    background-color: var(--hover-bg-color);\n",
              "    box-shadow: 0 1px 2px rgba(60, 64, 67, 0.3), 0 1px 3px 1px rgba(60, 64, 67, 0.15);\n",
              "    fill: var(--button-hover-fill-color);\n",
              "  }\n",
              "\n",
              "  .colab-df-quickchart-complete:disabled,\n",
              "  .colab-df-quickchart-complete:disabled:hover {\n",
              "    background-color: var(--disabled-bg-color);\n",
              "    fill: var(--disabled-fill-color);\n",
              "    box-shadow: none;\n",
              "  }\n",
              "\n",
              "  .colab-df-spinner {\n",
              "    border: 2px solid var(--fill-color);\n",
              "    border-color: transparent;\n",
              "    border-bottom-color: var(--fill-color);\n",
              "    animation:\n",
              "      spin 1s steps(1) infinite;\n",
              "  }\n",
              "\n",
              "  @keyframes spin {\n",
              "    0% {\n",
              "      border-color: transparent;\n",
              "      border-bottom-color: var(--fill-color);\n",
              "      border-left-color: var(--fill-color);\n",
              "    }\n",
              "    20% {\n",
              "      border-color: transparent;\n",
              "      border-left-color: var(--fill-color);\n",
              "      border-top-color: var(--fill-color);\n",
              "    }\n",
              "    30% {\n",
              "      border-color: transparent;\n",
              "      border-left-color: var(--fill-color);\n",
              "      border-top-color: var(--fill-color);\n",
              "      border-right-color: var(--fill-color);\n",
              "    }\n",
              "    40% {\n",
              "      border-color: transparent;\n",
              "      border-right-color: var(--fill-color);\n",
              "      border-top-color: var(--fill-color);\n",
              "    }\n",
              "    60% {\n",
              "      border-color: transparent;\n",
              "      border-right-color: var(--fill-color);\n",
              "    }\n",
              "    80% {\n",
              "      border-color: transparent;\n",
              "      border-right-color: var(--fill-color);\n",
              "      border-bottom-color: var(--fill-color);\n",
              "    }\n",
              "    90% {\n",
              "      border-color: transparent;\n",
              "      border-bottom-color: var(--fill-color);\n",
              "    }\n",
              "  }\n",
              "</style>\n",
              "\n",
              "  <script>\n",
              "    async function quickchart(key) {\n",
              "      const quickchartButtonEl =\n",
              "        document.querySelector('#' + key + ' button');\n",
              "      quickchartButtonEl.disabled = true;  // To prevent multiple clicks.\n",
              "      quickchartButtonEl.classList.add('colab-df-spinner');\n",
              "      try {\n",
              "        const charts = await google.colab.kernel.invokeFunction(\n",
              "            'suggestCharts', [key], {});\n",
              "      } catch (error) {\n",
              "        console.error('Error during call to suggestCharts:', error);\n",
              "      }\n",
              "      quickchartButtonEl.classList.remove('colab-df-spinner');\n",
              "      quickchartButtonEl.classList.add('colab-df-quickchart-complete');\n",
              "    }\n",
              "    (() => {\n",
              "      let quickchartButtonEl =\n",
              "        document.querySelector('#df-1c762f89-40a6-440d-a62d-1d9c158696f1 button');\n",
              "      quickchartButtonEl.style.display =\n",
              "        google.colab.kernel.accessAllowed ? 'block' : 'none';\n",
              "    })();\n",
              "  </script>\n",
              "</div>\n",
              "\n",
              "    </div>\n",
              "  </div>\n"
            ]
          },
          "metadata": {},
          "execution_count": 13
        }
      ]
    },
    {
      "cell_type": "markdown",
      "source": [
        "**3.1.1: Some Dates contain Easy Basic Medium Hard, which need to be remove from the database**"
      ],
      "metadata": {
        "id": "yh8-uRvoQT78"
      }
    },
    {
      "cell_type": "code",
      "source": [
        "# len(df[df['last_updated'] == 'Easy'])\n",
        "# len(df[df['last_updated'] == 'Basic'])\n",
        "# len(df[df['last_updated'] == 'Medium'])\n",
        "# len(df[df['last_updated'] == 'Hard'])\n",
        "# len(df[df['last_updated'] == 'Expert'])\n",
        "\n",
        "\n",
        "df = df[df['last_updated'] != 'Easy']\n",
        "print(len(df))\n",
        "df = df[df['last_updated'] != 'Basic']\n",
        "print(len(df))\n",
        "df = df[df['last_updated'] != 'Medium']\n",
        "print(len(df))\n",
        "df = df[df['last_updated'] != 'Hard']\n",
        "print(len(df))"
      ],
      "metadata": {
        "colab": {
          "base_uri": "https://localhost:8080/"
        },
        "id": "y7CiuYb_H_k1",
        "outputId": "bd5688ab-5af4-47e4-b2f4-a67708024045"
      },
      "execution_count": 14,
      "outputs": [
        {
          "output_type": "stream",
          "name": "stdout",
          "text": [
            "34497\n",
            "34495\n",
            "34455\n",
            "34438\n"
          ]
        }
      ]
    },
    {
      "cell_type": "markdown",
      "source": [
        "**3.1.2 : Split dates based on day month year**"
      ],
      "metadata": {
        "id": "Lh8nXAEeJklc"
      }
    },
    {
      "cell_type": "code",
      "source": [
        "date = []\n",
        "month = []\n",
        "year = []\n",
        "\n",
        "for i in df['last_updated']:\n",
        "  i = i.replace(',','')\n",
        "  date.append(i.split(' ')[0])\n",
        "  month.append(i.split(' ')[1])\n",
        "  year.append(i.split(' ')[2])\n",
        "\n",
        "df['date'] = date\n",
        "df['month'] = month\n",
        "df['year'] = year\n",
        "\n",
        "\n",
        "df.head()"
      ],
      "metadata": {
        "colab": {
          "base_uri": "https://localhost:8080/",
          "height": 462
        },
        "id": "omZ-9ErBJ4Mo",
        "outputId": "e8eb67f4-5442-44db-befc-6a0d759be082"
      },
      "execution_count": 15,
      "outputs": [
        {
          "output_type": "execute_result",
          "data": {
            "text/plain": [
              "                                          title         author_id  \\\n",
              "0        5 Best Practices For Writing SQL Joins       priyankab14   \n",
              "1                  Foundation CSS Dropdown Menu  ishankhandelwals   \n",
              "2  Top 20 Excel Shortcuts That You Need To Know       priyankab14   \n",
              "3                     Servlet – Fetching Result   nishatiwari1719   \n",
              "4                              Suffix Sum Array          rohit768   \n",
              "\n",
              "   last_updated                                               link category  \\\n",
              "0  21 Feb, 2022  https://www.geeksforgeeks.org/5-best-practices...     easy   \n",
              "1  20 Feb, 2022  https://www.geeksforgeeks.org/foundation-css-d...     easy   \n",
              "2  17 Feb, 2022  https://www.geeksforgeeks.org/top-20-excel-sho...     easy   \n",
              "3  17 Feb, 2022  https://www.geeksforgeeks.org/servlet-fetching...     easy   \n",
              "4  21 Feb, 2022    https://www.geeksforgeeks.org/suffix-sum-array/     easy   \n",
              "\n",
              "  date month  year  \n",
              "0   21   Feb  2022  \n",
              "1   20   Feb  2022  \n",
              "2   17   Feb  2022  \n",
              "3   17   Feb  2022  \n",
              "4   21   Feb  2022  "
            ],
            "text/html": [
              "\n",
              "  <div id=\"df-af05e1b3-e076-4ca2-937a-6d7a53282887\" class=\"colab-df-container\">\n",
              "    <div>\n",
              "<style scoped>\n",
              "    .dataframe tbody tr th:only-of-type {\n",
              "        vertical-align: middle;\n",
              "    }\n",
              "\n",
              "    .dataframe tbody tr th {\n",
              "        vertical-align: top;\n",
              "    }\n",
              "\n",
              "    .dataframe thead th {\n",
              "        text-align: right;\n",
              "    }\n",
              "</style>\n",
              "<table border=\"1\" class=\"dataframe\">\n",
              "  <thead>\n",
              "    <tr style=\"text-align: right;\">\n",
              "      <th></th>\n",
              "      <th>title</th>\n",
              "      <th>author_id</th>\n",
              "      <th>last_updated</th>\n",
              "      <th>link</th>\n",
              "      <th>category</th>\n",
              "      <th>date</th>\n",
              "      <th>month</th>\n",
              "      <th>year</th>\n",
              "    </tr>\n",
              "  </thead>\n",
              "  <tbody>\n",
              "    <tr>\n",
              "      <th>0</th>\n",
              "      <td>5 Best Practices For Writing SQL Joins</td>\n",
              "      <td>priyankab14</td>\n",
              "      <td>21 Feb, 2022</td>\n",
              "      <td>https://www.geeksforgeeks.org/5-best-practices...</td>\n",
              "      <td>easy</td>\n",
              "      <td>21</td>\n",
              "      <td>Feb</td>\n",
              "      <td>2022</td>\n",
              "    </tr>\n",
              "    <tr>\n",
              "      <th>1</th>\n",
              "      <td>Foundation CSS Dropdown Menu</td>\n",
              "      <td>ishankhandelwals</td>\n",
              "      <td>20 Feb, 2022</td>\n",
              "      <td>https://www.geeksforgeeks.org/foundation-css-d...</td>\n",
              "      <td>easy</td>\n",
              "      <td>20</td>\n",
              "      <td>Feb</td>\n",
              "      <td>2022</td>\n",
              "    </tr>\n",
              "    <tr>\n",
              "      <th>2</th>\n",
              "      <td>Top 20 Excel Shortcuts That You Need To Know</td>\n",
              "      <td>priyankab14</td>\n",
              "      <td>17 Feb, 2022</td>\n",
              "      <td>https://www.geeksforgeeks.org/top-20-excel-sho...</td>\n",
              "      <td>easy</td>\n",
              "      <td>17</td>\n",
              "      <td>Feb</td>\n",
              "      <td>2022</td>\n",
              "    </tr>\n",
              "    <tr>\n",
              "      <th>3</th>\n",
              "      <td>Servlet – Fetching Result</td>\n",
              "      <td>nishatiwari1719</td>\n",
              "      <td>17 Feb, 2022</td>\n",
              "      <td>https://www.geeksforgeeks.org/servlet-fetching...</td>\n",
              "      <td>easy</td>\n",
              "      <td>17</td>\n",
              "      <td>Feb</td>\n",
              "      <td>2022</td>\n",
              "    </tr>\n",
              "    <tr>\n",
              "      <th>4</th>\n",
              "      <td>Suffix Sum Array</td>\n",
              "      <td>rohit768</td>\n",
              "      <td>21 Feb, 2022</td>\n",
              "      <td>https://www.geeksforgeeks.org/suffix-sum-array/</td>\n",
              "      <td>easy</td>\n",
              "      <td>21</td>\n",
              "      <td>Feb</td>\n",
              "      <td>2022</td>\n",
              "    </tr>\n",
              "  </tbody>\n",
              "</table>\n",
              "</div>\n",
              "    <div class=\"colab-df-buttons\">\n",
              "\n",
              "  <div class=\"colab-df-container\">\n",
              "    <button class=\"colab-df-convert\" onclick=\"convertToInteractive('df-af05e1b3-e076-4ca2-937a-6d7a53282887')\"\n",
              "            title=\"Convert this dataframe to an interactive table.\"\n",
              "            style=\"display:none;\">\n",
              "\n",
              "  <svg xmlns=\"http://www.w3.org/2000/svg\" height=\"24px\" viewBox=\"0 -960 960 960\">\n",
              "    <path d=\"M120-120v-720h720v720H120Zm60-500h600v-160H180v160Zm220 220h160v-160H400v160Zm0 220h160v-160H400v160ZM180-400h160v-160H180v160Zm440 0h160v-160H620v160ZM180-180h160v-160H180v160Zm440 0h160v-160H620v160Z\"/>\n",
              "  </svg>\n",
              "    </button>\n",
              "\n",
              "  <style>\n",
              "    .colab-df-container {\n",
              "      display:flex;\n",
              "      gap: 12px;\n",
              "    }\n",
              "\n",
              "    .colab-df-convert {\n",
              "      background-color: #E8F0FE;\n",
              "      border: none;\n",
              "      border-radius: 50%;\n",
              "      cursor: pointer;\n",
              "      display: none;\n",
              "      fill: #1967D2;\n",
              "      height: 32px;\n",
              "      padding: 0 0 0 0;\n",
              "      width: 32px;\n",
              "    }\n",
              "\n",
              "    .colab-df-convert:hover {\n",
              "      background-color: #E2EBFA;\n",
              "      box-shadow: 0px 1px 2px rgba(60, 64, 67, 0.3), 0px 1px 3px 1px rgba(60, 64, 67, 0.15);\n",
              "      fill: #174EA6;\n",
              "    }\n",
              "\n",
              "    .colab-df-buttons div {\n",
              "      margin-bottom: 4px;\n",
              "    }\n",
              "\n",
              "    [theme=dark] .colab-df-convert {\n",
              "      background-color: #3B4455;\n",
              "      fill: #D2E3FC;\n",
              "    }\n",
              "\n",
              "    [theme=dark] .colab-df-convert:hover {\n",
              "      background-color: #434B5C;\n",
              "      box-shadow: 0px 1px 3px 1px rgba(0, 0, 0, 0.15);\n",
              "      filter: drop-shadow(0px 1px 2px rgba(0, 0, 0, 0.3));\n",
              "      fill: #FFFFFF;\n",
              "    }\n",
              "  </style>\n",
              "\n",
              "    <script>\n",
              "      const buttonEl =\n",
              "        document.querySelector('#df-af05e1b3-e076-4ca2-937a-6d7a53282887 button.colab-df-convert');\n",
              "      buttonEl.style.display =\n",
              "        google.colab.kernel.accessAllowed ? 'block' : 'none';\n",
              "\n",
              "      async function convertToInteractive(key) {\n",
              "        const element = document.querySelector('#df-af05e1b3-e076-4ca2-937a-6d7a53282887');\n",
              "        const dataTable =\n",
              "          await google.colab.kernel.invokeFunction('convertToInteractive',\n",
              "                                                    [key], {});\n",
              "        if (!dataTable) return;\n",
              "\n",
              "        const docLinkHtml = 'Like what you see? Visit the ' +\n",
              "          '<a target=\"_blank\" href=https://colab.research.google.com/notebooks/data_table.ipynb>data table notebook</a>'\n",
              "          + ' to learn more about interactive tables.';\n",
              "        element.innerHTML = '';\n",
              "        dataTable['output_type'] = 'display_data';\n",
              "        await google.colab.output.renderOutput(dataTable, element);\n",
              "        const docLink = document.createElement('div');\n",
              "        docLink.innerHTML = docLinkHtml;\n",
              "        element.appendChild(docLink);\n",
              "      }\n",
              "    </script>\n",
              "  </div>\n",
              "\n",
              "\n",
              "<div id=\"df-2c5d3c8e-1769-44b1-90dd-d48a515833f7\">\n",
              "  <button class=\"colab-df-quickchart\" onclick=\"quickchart('df-2c5d3c8e-1769-44b1-90dd-d48a515833f7')\"\n",
              "            title=\"Suggest charts\"\n",
              "            style=\"display:none;\">\n",
              "\n",
              "<svg xmlns=\"http://www.w3.org/2000/svg\" height=\"24px\"viewBox=\"0 0 24 24\"\n",
              "     width=\"24px\">\n",
              "    <g>\n",
              "        <path d=\"M19 3H5c-1.1 0-2 .9-2 2v14c0 1.1.9 2 2 2h14c1.1 0 2-.9 2-2V5c0-1.1-.9-2-2-2zM9 17H7v-7h2v7zm4 0h-2V7h2v10zm4 0h-2v-4h2v4z\"/>\n",
              "    </g>\n",
              "</svg>\n",
              "  </button>\n",
              "\n",
              "<style>\n",
              "  .colab-df-quickchart {\n",
              "      --bg-color: #E8F0FE;\n",
              "      --fill-color: #1967D2;\n",
              "      --hover-bg-color: #E2EBFA;\n",
              "      --hover-fill-color: #174EA6;\n",
              "      --disabled-fill-color: #AAA;\n",
              "      --disabled-bg-color: #DDD;\n",
              "  }\n",
              "\n",
              "  [theme=dark] .colab-df-quickchart {\n",
              "      --bg-color: #3B4455;\n",
              "      --fill-color: #D2E3FC;\n",
              "      --hover-bg-color: #434B5C;\n",
              "      --hover-fill-color: #FFFFFF;\n",
              "      --disabled-bg-color: #3B4455;\n",
              "      --disabled-fill-color: #666;\n",
              "  }\n",
              "\n",
              "  .colab-df-quickchart {\n",
              "    background-color: var(--bg-color);\n",
              "    border: none;\n",
              "    border-radius: 50%;\n",
              "    cursor: pointer;\n",
              "    display: none;\n",
              "    fill: var(--fill-color);\n",
              "    height: 32px;\n",
              "    padding: 0;\n",
              "    width: 32px;\n",
              "  }\n",
              "\n",
              "  .colab-df-quickchart:hover {\n",
              "    background-color: var(--hover-bg-color);\n",
              "    box-shadow: 0 1px 2px rgba(60, 64, 67, 0.3), 0 1px 3px 1px rgba(60, 64, 67, 0.15);\n",
              "    fill: var(--button-hover-fill-color);\n",
              "  }\n",
              "\n",
              "  .colab-df-quickchart-complete:disabled,\n",
              "  .colab-df-quickchart-complete:disabled:hover {\n",
              "    background-color: var(--disabled-bg-color);\n",
              "    fill: var(--disabled-fill-color);\n",
              "    box-shadow: none;\n",
              "  }\n",
              "\n",
              "  .colab-df-spinner {\n",
              "    border: 2px solid var(--fill-color);\n",
              "    border-color: transparent;\n",
              "    border-bottom-color: var(--fill-color);\n",
              "    animation:\n",
              "      spin 1s steps(1) infinite;\n",
              "  }\n",
              "\n",
              "  @keyframes spin {\n",
              "    0% {\n",
              "      border-color: transparent;\n",
              "      border-bottom-color: var(--fill-color);\n",
              "      border-left-color: var(--fill-color);\n",
              "    }\n",
              "    20% {\n",
              "      border-color: transparent;\n",
              "      border-left-color: var(--fill-color);\n",
              "      border-top-color: var(--fill-color);\n",
              "    }\n",
              "    30% {\n",
              "      border-color: transparent;\n",
              "      border-left-color: var(--fill-color);\n",
              "      border-top-color: var(--fill-color);\n",
              "      border-right-color: var(--fill-color);\n",
              "    }\n",
              "    40% {\n",
              "      border-color: transparent;\n",
              "      border-right-color: var(--fill-color);\n",
              "      border-top-color: var(--fill-color);\n",
              "    }\n",
              "    60% {\n",
              "      border-color: transparent;\n",
              "      border-right-color: var(--fill-color);\n",
              "    }\n",
              "    80% {\n",
              "      border-color: transparent;\n",
              "      border-right-color: var(--fill-color);\n",
              "      border-bottom-color: var(--fill-color);\n",
              "    }\n",
              "    90% {\n",
              "      border-color: transparent;\n",
              "      border-bottom-color: var(--fill-color);\n",
              "    }\n",
              "  }\n",
              "</style>\n",
              "\n",
              "  <script>\n",
              "    async function quickchart(key) {\n",
              "      const quickchartButtonEl =\n",
              "        document.querySelector('#' + key + ' button');\n",
              "      quickchartButtonEl.disabled = true;  // To prevent multiple clicks.\n",
              "      quickchartButtonEl.classList.add('colab-df-spinner');\n",
              "      try {\n",
              "        const charts = await google.colab.kernel.invokeFunction(\n",
              "            'suggestCharts', [key], {});\n",
              "      } catch (error) {\n",
              "        console.error('Error during call to suggestCharts:', error);\n",
              "      }\n",
              "      quickchartButtonEl.classList.remove('colab-df-spinner');\n",
              "      quickchartButtonEl.classList.add('colab-df-quickchart-complete');\n",
              "    }\n",
              "    (() => {\n",
              "      let quickchartButtonEl =\n",
              "        document.querySelector('#df-2c5d3c8e-1769-44b1-90dd-d48a515833f7 button');\n",
              "      quickchartButtonEl.style.display =\n",
              "        google.colab.kernel.accessAllowed ? 'block' : 'none';\n",
              "    })();\n",
              "  </script>\n",
              "</div>\n",
              "\n",
              "    </div>\n",
              "  </div>\n"
            ]
          },
          "metadata": {},
          "execution_count": 15
        }
      ]
    },
    {
      "cell_type": "markdown",
      "source": [
        "**3.1.3 : Finding days for each of the Date using datetime module**"
      ],
      "metadata": {
        "id": "fdbZMcAwjyXf"
      }
    },
    {
      "cell_type": "code",
      "source": [
        "import datetime\n",
        "\n",
        "def find_day(d):\n",
        "  d_obj = datetime.datetime.strptime(d, '%d %b %Y')\n",
        "  day = d_obj.strftime('%A')\n",
        "  return day\n",
        "\n",
        "df['day'] = [find_day(d.replace(',','')) for d in df['last_updated']]\n",
        "df['day'] = [find_day(date.replace(',','')) for date in df['last_updated']]\n",
        "df.head()"
      ],
      "metadata": {
        "colab": {
          "base_uri": "https://localhost:8080/",
          "height": 462
        },
        "id": "ghDt6GUQj0Iw",
        "outputId": "b1c8348a-0480-4f4a-96b9-8c256eaa3ab7"
      },
      "execution_count": 16,
      "outputs": [
        {
          "output_type": "execute_result",
          "data": {
            "text/plain": [
              "                                          title         author_id  \\\n",
              "0        5 Best Practices For Writing SQL Joins       priyankab14   \n",
              "1                  Foundation CSS Dropdown Menu  ishankhandelwals   \n",
              "2  Top 20 Excel Shortcuts That You Need To Know       priyankab14   \n",
              "3                     Servlet – Fetching Result   nishatiwari1719   \n",
              "4                              Suffix Sum Array          rohit768   \n",
              "\n",
              "   last_updated                                               link category  \\\n",
              "0  21 Feb, 2022  https://www.geeksforgeeks.org/5-best-practices...     easy   \n",
              "1  20 Feb, 2022  https://www.geeksforgeeks.org/foundation-css-d...     easy   \n",
              "2  17 Feb, 2022  https://www.geeksforgeeks.org/top-20-excel-sho...     easy   \n",
              "3  17 Feb, 2022  https://www.geeksforgeeks.org/servlet-fetching...     easy   \n",
              "4  21 Feb, 2022    https://www.geeksforgeeks.org/suffix-sum-array/     easy   \n",
              "\n",
              "  date month  year       day  \n",
              "0   21   Feb  2022    Monday  \n",
              "1   20   Feb  2022    Sunday  \n",
              "2   17   Feb  2022  Thursday  \n",
              "3   17   Feb  2022  Thursday  \n",
              "4   21   Feb  2022    Monday  "
            ],
            "text/html": [
              "\n",
              "  <div id=\"df-1e6e514b-e6e6-406d-a63d-461c59914cac\" class=\"colab-df-container\">\n",
              "    <div>\n",
              "<style scoped>\n",
              "    .dataframe tbody tr th:only-of-type {\n",
              "        vertical-align: middle;\n",
              "    }\n",
              "\n",
              "    .dataframe tbody tr th {\n",
              "        vertical-align: top;\n",
              "    }\n",
              "\n",
              "    .dataframe thead th {\n",
              "        text-align: right;\n",
              "    }\n",
              "</style>\n",
              "<table border=\"1\" class=\"dataframe\">\n",
              "  <thead>\n",
              "    <tr style=\"text-align: right;\">\n",
              "      <th></th>\n",
              "      <th>title</th>\n",
              "      <th>author_id</th>\n",
              "      <th>last_updated</th>\n",
              "      <th>link</th>\n",
              "      <th>category</th>\n",
              "      <th>date</th>\n",
              "      <th>month</th>\n",
              "      <th>year</th>\n",
              "      <th>day</th>\n",
              "    </tr>\n",
              "  </thead>\n",
              "  <tbody>\n",
              "    <tr>\n",
              "      <th>0</th>\n",
              "      <td>5 Best Practices For Writing SQL Joins</td>\n",
              "      <td>priyankab14</td>\n",
              "      <td>21 Feb, 2022</td>\n",
              "      <td>https://www.geeksforgeeks.org/5-best-practices...</td>\n",
              "      <td>easy</td>\n",
              "      <td>21</td>\n",
              "      <td>Feb</td>\n",
              "      <td>2022</td>\n",
              "      <td>Monday</td>\n",
              "    </tr>\n",
              "    <tr>\n",
              "      <th>1</th>\n",
              "      <td>Foundation CSS Dropdown Menu</td>\n",
              "      <td>ishankhandelwals</td>\n",
              "      <td>20 Feb, 2022</td>\n",
              "      <td>https://www.geeksforgeeks.org/foundation-css-d...</td>\n",
              "      <td>easy</td>\n",
              "      <td>20</td>\n",
              "      <td>Feb</td>\n",
              "      <td>2022</td>\n",
              "      <td>Sunday</td>\n",
              "    </tr>\n",
              "    <tr>\n",
              "      <th>2</th>\n",
              "      <td>Top 20 Excel Shortcuts That You Need To Know</td>\n",
              "      <td>priyankab14</td>\n",
              "      <td>17 Feb, 2022</td>\n",
              "      <td>https://www.geeksforgeeks.org/top-20-excel-sho...</td>\n",
              "      <td>easy</td>\n",
              "      <td>17</td>\n",
              "      <td>Feb</td>\n",
              "      <td>2022</td>\n",
              "      <td>Thursday</td>\n",
              "    </tr>\n",
              "    <tr>\n",
              "      <th>3</th>\n",
              "      <td>Servlet – Fetching Result</td>\n",
              "      <td>nishatiwari1719</td>\n",
              "      <td>17 Feb, 2022</td>\n",
              "      <td>https://www.geeksforgeeks.org/servlet-fetching...</td>\n",
              "      <td>easy</td>\n",
              "      <td>17</td>\n",
              "      <td>Feb</td>\n",
              "      <td>2022</td>\n",
              "      <td>Thursday</td>\n",
              "    </tr>\n",
              "    <tr>\n",
              "      <th>4</th>\n",
              "      <td>Suffix Sum Array</td>\n",
              "      <td>rohit768</td>\n",
              "      <td>21 Feb, 2022</td>\n",
              "      <td>https://www.geeksforgeeks.org/suffix-sum-array/</td>\n",
              "      <td>easy</td>\n",
              "      <td>21</td>\n",
              "      <td>Feb</td>\n",
              "      <td>2022</td>\n",
              "      <td>Monday</td>\n",
              "    </tr>\n",
              "  </tbody>\n",
              "</table>\n",
              "</div>\n",
              "    <div class=\"colab-df-buttons\">\n",
              "\n",
              "  <div class=\"colab-df-container\">\n",
              "    <button class=\"colab-df-convert\" onclick=\"convertToInteractive('df-1e6e514b-e6e6-406d-a63d-461c59914cac')\"\n",
              "            title=\"Convert this dataframe to an interactive table.\"\n",
              "            style=\"display:none;\">\n",
              "\n",
              "  <svg xmlns=\"http://www.w3.org/2000/svg\" height=\"24px\" viewBox=\"0 -960 960 960\">\n",
              "    <path d=\"M120-120v-720h720v720H120Zm60-500h600v-160H180v160Zm220 220h160v-160H400v160Zm0 220h160v-160H400v160ZM180-400h160v-160H180v160Zm440 0h160v-160H620v160ZM180-180h160v-160H180v160Zm440 0h160v-160H620v160Z\"/>\n",
              "  </svg>\n",
              "    </button>\n",
              "\n",
              "  <style>\n",
              "    .colab-df-container {\n",
              "      display:flex;\n",
              "      gap: 12px;\n",
              "    }\n",
              "\n",
              "    .colab-df-convert {\n",
              "      background-color: #E8F0FE;\n",
              "      border: none;\n",
              "      border-radius: 50%;\n",
              "      cursor: pointer;\n",
              "      display: none;\n",
              "      fill: #1967D2;\n",
              "      height: 32px;\n",
              "      padding: 0 0 0 0;\n",
              "      width: 32px;\n",
              "    }\n",
              "\n",
              "    .colab-df-convert:hover {\n",
              "      background-color: #E2EBFA;\n",
              "      box-shadow: 0px 1px 2px rgba(60, 64, 67, 0.3), 0px 1px 3px 1px rgba(60, 64, 67, 0.15);\n",
              "      fill: #174EA6;\n",
              "    }\n",
              "\n",
              "    .colab-df-buttons div {\n",
              "      margin-bottom: 4px;\n",
              "    }\n",
              "\n",
              "    [theme=dark] .colab-df-convert {\n",
              "      background-color: #3B4455;\n",
              "      fill: #D2E3FC;\n",
              "    }\n",
              "\n",
              "    [theme=dark] .colab-df-convert:hover {\n",
              "      background-color: #434B5C;\n",
              "      box-shadow: 0px 1px 3px 1px rgba(0, 0, 0, 0.15);\n",
              "      filter: drop-shadow(0px 1px 2px rgba(0, 0, 0, 0.3));\n",
              "      fill: #FFFFFF;\n",
              "    }\n",
              "  </style>\n",
              "\n",
              "    <script>\n",
              "      const buttonEl =\n",
              "        document.querySelector('#df-1e6e514b-e6e6-406d-a63d-461c59914cac button.colab-df-convert');\n",
              "      buttonEl.style.display =\n",
              "        google.colab.kernel.accessAllowed ? 'block' : 'none';\n",
              "\n",
              "      async function convertToInteractive(key) {\n",
              "        const element = document.querySelector('#df-1e6e514b-e6e6-406d-a63d-461c59914cac');\n",
              "        const dataTable =\n",
              "          await google.colab.kernel.invokeFunction('convertToInteractive',\n",
              "                                                    [key], {});\n",
              "        if (!dataTable) return;\n",
              "\n",
              "        const docLinkHtml = 'Like what you see? Visit the ' +\n",
              "          '<a target=\"_blank\" href=https://colab.research.google.com/notebooks/data_table.ipynb>data table notebook</a>'\n",
              "          + ' to learn more about interactive tables.';\n",
              "        element.innerHTML = '';\n",
              "        dataTable['output_type'] = 'display_data';\n",
              "        await google.colab.output.renderOutput(dataTable, element);\n",
              "        const docLink = document.createElement('div');\n",
              "        docLink.innerHTML = docLinkHtml;\n",
              "        element.appendChild(docLink);\n",
              "      }\n",
              "    </script>\n",
              "  </div>\n",
              "\n",
              "\n",
              "<div id=\"df-528fdb30-b386-4a39-9418-57fefe7031ce\">\n",
              "  <button class=\"colab-df-quickchart\" onclick=\"quickchart('df-528fdb30-b386-4a39-9418-57fefe7031ce')\"\n",
              "            title=\"Suggest charts\"\n",
              "            style=\"display:none;\">\n",
              "\n",
              "<svg xmlns=\"http://www.w3.org/2000/svg\" height=\"24px\"viewBox=\"0 0 24 24\"\n",
              "     width=\"24px\">\n",
              "    <g>\n",
              "        <path d=\"M19 3H5c-1.1 0-2 .9-2 2v14c0 1.1.9 2 2 2h14c1.1 0 2-.9 2-2V5c0-1.1-.9-2-2-2zM9 17H7v-7h2v7zm4 0h-2V7h2v10zm4 0h-2v-4h2v4z\"/>\n",
              "    </g>\n",
              "</svg>\n",
              "  </button>\n",
              "\n",
              "<style>\n",
              "  .colab-df-quickchart {\n",
              "      --bg-color: #E8F0FE;\n",
              "      --fill-color: #1967D2;\n",
              "      --hover-bg-color: #E2EBFA;\n",
              "      --hover-fill-color: #174EA6;\n",
              "      --disabled-fill-color: #AAA;\n",
              "      --disabled-bg-color: #DDD;\n",
              "  }\n",
              "\n",
              "  [theme=dark] .colab-df-quickchart {\n",
              "      --bg-color: #3B4455;\n",
              "      --fill-color: #D2E3FC;\n",
              "      --hover-bg-color: #434B5C;\n",
              "      --hover-fill-color: #FFFFFF;\n",
              "      --disabled-bg-color: #3B4455;\n",
              "      --disabled-fill-color: #666;\n",
              "  }\n",
              "\n",
              "  .colab-df-quickchart {\n",
              "    background-color: var(--bg-color);\n",
              "    border: none;\n",
              "    border-radius: 50%;\n",
              "    cursor: pointer;\n",
              "    display: none;\n",
              "    fill: var(--fill-color);\n",
              "    height: 32px;\n",
              "    padding: 0;\n",
              "    width: 32px;\n",
              "  }\n",
              "\n",
              "  .colab-df-quickchart:hover {\n",
              "    background-color: var(--hover-bg-color);\n",
              "    box-shadow: 0 1px 2px rgba(60, 64, 67, 0.3), 0 1px 3px 1px rgba(60, 64, 67, 0.15);\n",
              "    fill: var(--button-hover-fill-color);\n",
              "  }\n",
              "\n",
              "  .colab-df-quickchart-complete:disabled,\n",
              "  .colab-df-quickchart-complete:disabled:hover {\n",
              "    background-color: var(--disabled-bg-color);\n",
              "    fill: var(--disabled-fill-color);\n",
              "    box-shadow: none;\n",
              "  }\n",
              "\n",
              "  .colab-df-spinner {\n",
              "    border: 2px solid var(--fill-color);\n",
              "    border-color: transparent;\n",
              "    border-bottom-color: var(--fill-color);\n",
              "    animation:\n",
              "      spin 1s steps(1) infinite;\n",
              "  }\n",
              "\n",
              "  @keyframes spin {\n",
              "    0% {\n",
              "      border-color: transparent;\n",
              "      border-bottom-color: var(--fill-color);\n",
              "      border-left-color: var(--fill-color);\n",
              "    }\n",
              "    20% {\n",
              "      border-color: transparent;\n",
              "      border-left-color: var(--fill-color);\n",
              "      border-top-color: var(--fill-color);\n",
              "    }\n",
              "    30% {\n",
              "      border-color: transparent;\n",
              "      border-left-color: var(--fill-color);\n",
              "      border-top-color: var(--fill-color);\n",
              "      border-right-color: var(--fill-color);\n",
              "    }\n",
              "    40% {\n",
              "      border-color: transparent;\n",
              "      border-right-color: var(--fill-color);\n",
              "      border-top-color: var(--fill-color);\n",
              "    }\n",
              "    60% {\n",
              "      border-color: transparent;\n",
              "      border-right-color: var(--fill-color);\n",
              "    }\n",
              "    80% {\n",
              "      border-color: transparent;\n",
              "      border-right-color: var(--fill-color);\n",
              "      border-bottom-color: var(--fill-color);\n",
              "    }\n",
              "    90% {\n",
              "      border-color: transparent;\n",
              "      border-bottom-color: var(--fill-color);\n",
              "    }\n",
              "  }\n",
              "</style>\n",
              "\n",
              "  <script>\n",
              "    async function quickchart(key) {\n",
              "      const quickchartButtonEl =\n",
              "        document.querySelector('#' + key + ' button');\n",
              "      quickchartButtonEl.disabled = true;  // To prevent multiple clicks.\n",
              "      quickchartButtonEl.classList.add('colab-df-spinner');\n",
              "      try {\n",
              "        const charts = await google.colab.kernel.invokeFunction(\n",
              "            'suggestCharts', [key], {});\n",
              "      } catch (error) {\n",
              "        console.error('Error during call to suggestCharts:', error);\n",
              "      }\n",
              "      quickchartButtonEl.classList.remove('colab-df-spinner');\n",
              "      quickchartButtonEl.classList.add('colab-df-quickchart-complete');\n",
              "    }\n",
              "    (() => {\n",
              "      let quickchartButtonEl =\n",
              "        document.querySelector('#df-528fdb30-b386-4a39-9418-57fefe7031ce button');\n",
              "      quickchartButtonEl.style.display =\n",
              "        google.colab.kernel.accessAllowed ? 'block' : 'none';\n",
              "    })();\n",
              "  </script>\n",
              "</div>\n",
              "\n",
              "    </div>\n",
              "  </div>\n"
            ]
          },
          "metadata": {},
          "execution_count": 16
        }
      ]
    },
    {
      "cell_type": "markdown",
      "source": [
        "##**4. Data Analysis**"
      ],
      "metadata": {
        "id": "q_H0Q_tTo29b"
      }
    },
    {
      "cell_type": "markdown",
      "source": [
        "**4.1 : Finding number of articles for languages - C, C++, Python, Java**"
      ],
      "metadata": {
        "id": "jt30KI-7pyBp"
      }
    },
    {
      "cell_type": "code",
      "source": [
        "# cf = 0\n",
        "# for i in df['title']:\n",
        "#   if 'c' in i.lower().split():\n",
        "#     cf += 1\n",
        "\n",
        "# print(cf)\n",
        "\n",
        "\n",
        "# c2f = 0\n",
        "# for i in df['title']:\n",
        "#   if 'c++' in i.lower().split():\n",
        "#     c2f += 1\n",
        "\n",
        "# print(c2f)\n",
        "\n",
        "language = ['c', 'c++', 'python', 'java']\n",
        "lst = []\n",
        "for l in language:\n",
        "  freq = 0\n",
        "  for i in df['title']:\n",
        "    if l in i.lower().split():\n",
        "      freq += 1\n",
        "\n",
        "  lst.append([l, freq])\n",
        "\n",
        "lst"
      ],
      "metadata": {
        "colab": {
          "base_uri": "https://localhost:8080/"
        },
        "id": "BvsMZDhPp11k",
        "outputId": "224f660f-0780-4516-9d14-04e5b953ba70"
      },
      "execution_count": 17,
      "outputs": [
        {
          "output_type": "execute_result",
          "data": {
            "text/plain": [
              "[['c', 820], ['c++', 1178], ['python', 2676], ['java', 1820]]"
            ]
          },
          "metadata": {},
          "execution_count": 17
        }
      ]
    },
    {
      "cell_type": "markdown",
      "source": [
        "**4.2 : Article distribution in each category**"
      ],
      "metadata": {
        "id": "dn66UYLjV3Kj"
      }
    },
    {
      "cell_type": "code",
      "source": [
        "df.groupby(by = 'category')['title'].count()"
      ],
      "metadata": {
        "colab": {
          "base_uri": "https://localhost:8080/"
        },
        "id": "IEcF50zqV_gi",
        "outputId": "df9733de-67d2-48f6-b8ea-df11739deff9"
      },
      "execution_count": 18,
      "outputs": [
        {
          "output_type": "execute_result",
          "data": {
            "text/plain": [
              "category\n",
              "basic      8120\n",
              "easy       9602\n",
              "expert     2088\n",
              "hard       4220\n",
              "medium    10408\n",
              "Name: title, dtype: int64"
            ]
          },
          "metadata": {},
          "execution_count": 18
        }
      ]
    },
    {
      "cell_type": "code",
      "source": [
        "df['category'].value_counts().plot(kind='barh', color = '#bdbdde')"
      ],
      "metadata": {
        "colab": {
          "base_uri": "https://localhost:8080/",
          "height": 447
        },
        "id": "8RmD84Dji8_d",
        "outputId": "049369b4-1b9b-49b4-87e8-0d4f5fd183c4"
      },
      "execution_count": 95,
      "outputs": [
        {
          "output_type": "execute_result",
          "data": {
            "text/plain": [
              "<Axes: >"
            ]
          },
          "metadata": {},
          "execution_count": 95
        },
        {
          "output_type": "display_data",
          "data": {
            "text/plain": [
              "<Figure size 640x480 with 1 Axes>"
            ],
            "image/png": "[encoded data removed]"
          },
          "metadata": {}
        }
      ]
    },
    {
      "cell_type": "code",
      "source": [
        "#We can change the order as per our requirements\n",
        "\n",
        "df.groupby(by = 'category')['title'].count().loc[['basic', 'easy', 'medium', 'hard', 'expert']].plot(kind = 'barh', title = 'Category Distribution', color = '#592f5e')"
      ],
      "metadata": {
        "colab": {
          "base_uri": "https://localhost:8080/",
          "height": 469
        },
        "id": "w9v5ck_aWp2p",
        "outputId": "1ea7a8c5-28dd-49c4-84e4-442554a40a4f"
      },
      "execution_count": 98,
      "outputs": [
        {
          "output_type": "execute_result",
          "data": {
            "text/plain": [
              "<Axes: title={'center': 'Category Distribution'}, ylabel='category'>"
            ]
          },
          "metadata": {},
          "execution_count": 98
        },
        {
          "output_type": "display_data",
          "data": {
            "text/plain": [
              "<Figure size 640x480 with 1 Axes>"
            ],
            "image/png": "[encoded data removed]"
          },
          "metadata": {}
        }
      ]
    },
    {
      "cell_type": "markdown",
      "source": [
        "**4.3 : Relation between number of articles published and date**"
      ],
      "metadata": {
        "id": "9HRBMuipXnr-"
      }
    },
    {
      "cell_type": "code",
      "source": [
        "df.groupby(by = 'date')['title'].count()"
      ],
      "metadata": {
        "colab": {
          "base_uri": "https://localhost:8080/"
        },
        "id": "EEKS_847XrVv",
        "outputId": "d892322f-0585-4a10-d7e8-7ca27e459127"
      },
      "execution_count": 33,
      "outputs": [
        {
          "output_type": "execute_result",
          "data": {
            "text/plain": [
              "date\n",
              "01     986\n",
              "02     959\n",
              "03    1003\n",
              "04     951\n",
              "05     967\n",
              "06    1121\n",
              "07    1184\n",
              "08    1011\n",
              "09    1070\n",
              "10    1182\n",
              "11    1164\n",
              "12     999\n",
              "13    1019\n",
              "14    1046\n",
              "15     949\n",
              "16     988\n",
              "17    1174\n",
              "18    1070\n",
              "19    1107\n",
              "20     979\n",
              "21    1293\n",
              "22    1315\n",
              "23    1020\n",
              "24    1175\n",
              "25     975\n",
              "26    1175\n",
              "27    1105\n",
              "28    2430\n",
              "29    1134\n",
              "30    1149\n",
              "31     738\n",
              "Name: title, dtype: int64"
            ]
          },
          "metadata": {},
          "execution_count": 33
        }
      ]
    },
    {
      "cell_type": "code",
      "source": [
        "df.groupby(by = 'date')['title'].count().plot(kind = 'bar', title = 'Date wise articles published', color = '#679c90')"
      ],
      "metadata": {
        "colab": {
          "base_uri": "https://localhost:8080/",
          "height": 492
        },
        "id": "VeHKmArgYZ-L",
        "outputId": "0b5dd091-fad7-4253-c502-2c353aabe5d8"
      },
      "execution_count": 97,
      "outputs": [
        {
          "output_type": "execute_result",
          "data": {
            "text/plain": [
              "<Axes: title={'center': 'Date wise articles published'}, xlabel='date'>"
            ]
          },
          "metadata": {},
          "execution_count": 97
        },
        {
          "output_type": "display_data",
          "data": {
            "text/plain": [
              "<Figure size 640x480 with 1 Axes>"
            ],
            "image/png": "[encoded data removed]"
          },
          "metadata": {}
        }
      ]
    },
    {
      "cell_type": "markdown",
      "source": [
        "**4.4 : Relation between number of articles published and month**"
      ],
      "metadata": {
        "id": "zi-B05S1Yu-I"
      }
    },
    {
      "cell_type": "code",
      "source": [
        "df.groupby(by = 'month')['title'].count()"
      ],
      "metadata": {
        "colab": {
          "base_uri": "https://localhost:8080/"
        },
        "id": "5--u_nGIYv6e",
        "outputId": "09706369-7df0-4acb-be4c-95942ca0c395"
      },
      "execution_count": 37,
      "outputs": [
        {
          "output_type": "execute_result",
          "data": {
            "text/plain": [
              "month\n",
              "Apr    2318\n",
              "Aug    3191\n",
              "Dec    2673\n",
              "Feb    2715\n",
              "Jan    3204\n",
              "Jul    2823\n",
              "Jun    4057\n",
              "Mar    1510\n",
              "May    3328\n",
              "Nov    2931\n",
              "Oct    2771\n",
              "Sep    2917\n",
              "Name: title, dtype: int64"
            ]
          },
          "metadata": {},
          "execution_count": 37
        }
      ]
    },
    {
      "cell_type": "code",
      "source": [
        "df.groupby(by = 'month')['title'].count().loc[['Jan', 'Feb', 'Mar', 'Apr', 'May', 'Jun', 'Jul', 'Aug', 'Sep', 'Oct', 'Nov', 'Dec']].plot(kind = 'bar', title = 'Month Wise Articles Published', color = 'grey')\n",
        "\n"
      ],
      "metadata": {
        "colab": {
          "base_uri": "https://localhost:8080/",
          "height": 504
        },
        "id": "boxwxLV0Y68M",
        "outputId": "6d1da650-4d4e-4721-8eb0-7017dfcd694a"
      },
      "execution_count": 116,
      "outputs": [
        {
          "output_type": "execute_result",
          "data": {
            "text/plain": [
              "<Axes: title={'center': 'Month Wise Articles Published'}, xlabel='month'>"
            ]
          },
          "metadata": {},
          "execution_count": 116
        },
        {
          "output_type": "display_data",
          "data": {
            "text/plain": [
              "<Figure size 640x480 with 1 Axes>"
            ],
            "image/png": "[encoded data removed]"
          },
          "metadata": {}
        }
      ]
    },
    {
      "cell_type": "markdown",
      "source": [
        "**4.5 : Relation between number of articles published and year**"
      ],
      "metadata": {
        "id": "arsqiPH1Z5H8"
      }
    },
    {
      "cell_type": "code",
      "source": [
        "df.groupby(by = 'year')['title'].count()"
      ],
      "metadata": {
        "colab": {
          "base_uri": "https://localhost:8080/"
        },
        "id": "TOVYYB8SZ9rE",
        "outputId": "6293db1c-8fb3-4e2f-ed0a-3a31afdcf211"
      },
      "execution_count": 40,
      "outputs": [
        {
          "output_type": "execute_result",
          "data": {
            "text/plain": [
              "year\n",
              "2010        1\n",
              "2011        1\n",
              "2012        5\n",
              "2013       70\n",
              "2014       53\n",
              "2015      172\n",
              "2016      200\n",
              "2017     1020\n",
              "2018     2522\n",
              "2019     3984\n",
              "2020     4623\n",
              "2021    18603\n",
              "2022     3184\n",
              "Name: title, dtype: int64"
            ]
          },
          "metadata": {},
          "execution_count": 40
        }
      ]
    },
    {
      "cell_type": "code",
      "source": [
        "df.groupby(by = 'year')['title'].count().plot(kind = 'line', title = 'Year wise Articles Published', color = 'red')"
      ],
      "metadata": {
        "colab": {
          "base_uri": "https://localhost:8080/",
          "height": 489
        },
        "id": "u93lTmcyaDj6",
        "outputId": "118df607-63f4-4925-dcb4-e5eab22c65df"
      },
      "execution_count": 44,
      "outputs": [
        {
          "output_type": "execute_result",
          "data": {
            "text/plain": [
              "<Axes: title={'center': 'Year wise Articles Published'}, xlabel='year'>"
            ]
          },
          "metadata": {},
          "execution_count": 44
        },
        {
          "output_type": "display_data",
          "data": {
            "text/plain": [
              "<Figure size 640x480 with 1 Axes>"
            ],
            "image/png": "[encoded data removed]"
          },
          "metadata": {}
        }
      ]
    },
    {
      "cell_type": "markdown",
      "source": [
        "**4.6 : In the history of GFG, which day has most number of articles published?**"
      ],
      "metadata": {
        "id": "XFia_ecOcIw_"
      }
    },
    {
      "cell_type": "code",
      "source": [
        "df.groupby(by = 'last_updated')['title'].count().sort_values(ascending = False).head(1)"
      ],
      "metadata": {
        "colab": {
          "base_uri": "https://localhost:8080/"
        },
        "id": "Wvis-8kxcXOX",
        "outputId": "60bf6fcc-5e02-4e4b-b4ab-7c2ec7e16d2c"
      },
      "execution_count": 50,
      "outputs": [
        {
          "output_type": "execute_result",
          "data": {
            "text/plain": [
              "last_updated\n",
              "28 Jun, 2021    1283\n",
              "Name: title, dtype: int64"
            ]
          },
          "metadata": {},
          "execution_count": 50
        }
      ]
    },
    {
      "cell_type": "markdown",
      "source": [
        "**4.7 : Top 5 writers for awarding them for their maximum contribution to GFG portal**"
      ],
      "metadata": {
        "id": "Q6g5_zrpdxlR"
      }
    },
    {
      "cell_type": "code",
      "source": [
        "df.groupby(by = 'author_id')['title'].count().sort_values(ascending = False)[1:6]"
      ],
      "metadata": {
        "colab": {
          "base_uri": "https://localhost:8080/"
        },
        "id": "Dv_Sf7C4d86Z",
        "outputId": "19e354af-ccba-49a0-aa9c-17a6bb2e1b2c"
      },
      "execution_count": 65,
      "outputs": [
        {
          "output_type": "execute_result",
          "data": {
            "text/plain": [
              "author_id\n",
              "ManasChhabra2    316\n",
              "Striver          261\n",
              "manjeet_04       246\n",
              "Chinmoy Lenka    191\n",
              "pawan_asipu      155\n",
              "Name: title, dtype: int64"
            ]
          },
          "metadata": {},
          "execution_count": 65
        }
      ]
    },
    {
      "cell_type": "code",
      "source": [
        "df.groupby(by = 'author_id')['title'].count().sort_values(ascending = False)[1:6].plot(\n",
        "    kind = 'pie',\n",
        "    title = 'Top 5 Authors',\n",
        "    colors = ['#6fb1f7', '#7471a3', '#a071a3', '#c981b0', '#a37177'])"
      ],
      "metadata": {
        "colab": {
          "base_uri": "https://localhost:8080/",
          "height": 445
        },
        "id": "ZPKo2_HOho19",
        "outputId": "a1c74036-4086-46b9-8e20-2be9bbc7dbf9"
      },
      "execution_count": 135,
      "outputs": [
        {
          "output_type": "execute_result",
          "data": {
            "text/plain": [
              "<Axes: title={'center': 'Top 5 Authors'}, ylabel='title'>"
            ]
          },
          "metadata": {},
          "execution_count": 135
        },
        {
          "output_type": "display_data",
          "data": {
            "text/plain": [
              "<Figure size 640x480 with 1 Axes>"
            ],
            "image/png": "[encoded data removed]"
          },
          "metadata": {}
        }
      ]
    }
  ]
}